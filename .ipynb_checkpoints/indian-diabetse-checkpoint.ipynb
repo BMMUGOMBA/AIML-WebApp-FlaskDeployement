{
 "cells": [
  {
   "cell_type": "code",
   "execution_count": 1,
   "id": "59c7da15-1b1d-4394-8316-4726c1c21eca",
   "metadata": {
    "tags": []
   },
   "outputs": [],
   "source": [
    "# !pip install imblearn\n",
    "\n",
    "# To enable plotting graphs in Jupyter notebook\n",
    "%matplotlib inline "
   ]
  },
  {
   "cell_type": "code",
   "execution_count": 2,
   "id": "33c025ea-4383-4be9-9d8a-27477cd0698c",
   "metadata": {
    "tags": []
   },
   "outputs": [],
   "source": [
    "import pandas as pd\n",
    "from sklearn.linear_model import LogisticRegression\n",
    "\n",
    "# importing ploting libraries\n",
    "import matplotlib.pyplot as plt   \n",
    "\n",
    "#importing seaborn for statistical plots\n",
    "import seaborn as sns\n",
    "\n",
    "#Let us break the X and y dataframes into training set and test set. For this we will use\n",
    "#Sklearn package's data splitting function which is based on random function\n",
    "\n",
    "from sklearn.model_selection import train_test_split\n",
    "\n",
    "import numpy as np\n",
    "\n",
    "\n",
    "# calculate accuracy measures and confusion matrix\n",
    "from sklearn import metrics"
   ]
  },
  {
   "cell_type": "code",
   "execution_count": 3,
   "id": "0c063f1a-3dbe-4e2f-a128-30feb6ac31c1",
   "metadata": {
    "tags": []
   },
   "outputs": [
    {
     "name": "stdout",
     "output_type": "stream",
     "text": [
      "1.5.3\n"
     ]
    },
    {
     "name": "stderr",
     "output_type": "stream",
     "text": [
      "C:\\Users\\Windows 10 Pro\\anaconda3\\Lib\\site-packages\\_distutils_hack\\__init__.py:33: UserWarning: Setuptools is replacing distutils.\n",
      "  warnings.warn(\"Setuptools is replacing distutils.\")\n"
     ]
    },
    {
     "name": "stdout",
     "output_type": "stream",
     "text": [
      "\n",
      "INSTALLED VERSIONS\n",
      "------------------\n",
      "commit           : 2e218d10984e9919f0296931d92ea851c6a6faf5\n",
      "python           : 3.11.3.final.0\n",
      "python-bits      : 64\n",
      "OS               : Windows\n",
      "OS-release       : 10\n",
      "Version          : 10.0.19045\n",
      "machine          : AMD64\n",
      "processor        : Intel64 Family 6 Model 78 Stepping 3, GenuineIntel\n",
      "byteorder        : little\n",
      "LC_ALL           : None\n",
      "LANG             : None\n",
      "LOCALE           : English_United States.1252\n",
      "\n",
      "pandas           : 1.5.3\n",
      "numpy            : 1.24.3\n",
      "pytz             : 2022.7\n",
      "dateutil         : 2.8.2\n",
      "setuptools       : 67.8.0\n",
      "pip              : 23.1.2\n",
      "Cython           : None\n",
      "pytest           : 7.3.1\n",
      "hypothesis       : None\n",
      "sphinx           : 5.0.2\n",
      "blosc            : None\n",
      "feather          : None\n",
      "xlsxwriter       : None\n",
      "lxml.etree       : 4.9.2\n",
      "html5lib         : None\n",
      "pymysql          : None\n",
      "psycopg2         : None\n",
      "jinja2           : 3.1.2\n",
      "IPython          : 8.12.0\n",
      "pandas_datareader: None\n",
      "bs4              : 4.12.2\n",
      "bottleneck       : 1.3.5\n",
      "brotli           : \n",
      "fastparquet      : None\n",
      "fsspec           : 2023.3.0\n",
      "gcsfs            : None\n",
      "matplotlib       : 3.7.1\n",
      "numba            : 0.57.0\n",
      "numexpr          : 2.8.4\n",
      "odfpy            : None\n",
      "openpyxl         : 3.0.10\n",
      "pandas_gbq       : None\n",
      "pyarrow          : 11.0.0\n",
      "pyreadstat       : None\n",
      "pyxlsb           : None\n",
      "s3fs             : 2023.3.0\n",
      "scipy            : 1.10.1\n",
      "snappy           : \n",
      "sqlalchemy       : 1.4.39\n",
      "tables           : 3.8.0\n",
      "tabulate         : 0.8.10\n",
      "xarray           : 2022.11.0\n",
      "xlrd             : None\n",
      "xlwt             : None\n",
      "zstandard        : 0.19.0\n",
      "tzdata           : None\n"
     ]
    }
   ],
   "source": [
    "# Check the version\n",
    "print(pd.__version__)\n",
    "pd.show_versions()"
   ]
  },
  {
   "cell_type": "code",
   "execution_count": 4,
   "id": "eba25633-70fb-402e-815f-81529d1e0b98",
   "metadata": {
    "tags": []
   },
   "outputs": [
    {
     "data": {
      "text/plain": [
       "'2.2.2'"
      ]
     },
     "execution_count": 4,
     "metadata": {},
     "output_type": "execute_result"
    }
   ],
   "source": [
    "import flask\n",
    "flask.__version__"
   ]
  },
  {
   "cell_type": "code",
   "execution_count": null,
   "id": "dd2b1d3c-cc7f-4a41-a311-c0b4d25c5fbe",
   "metadata": {},
   "outputs": [],
   "source": [
    "# Since it is a data file with no header, we will supply the column names which have been obtained from the above URL \n",
    "# Create a python list of column names called \"names\"\n",
    "\n",
    "colnames = ['preg', 'plas', 'pres', 'skin', 'test', 'mass', 'pedi', 'age', 'target']\n",
    "\n",
    "#Load the file from local directory using pd.read_csv which is a special form of read_table\n",
    "#while reading the data, supply the \"colnames\" list\n",
    "\n",
    "pima_df = pd.read_csv(\"diabetes.csv\", names= colnames)"
   ]
  }
 ],
 "metadata": {
  "kernelspec": {
   "display_name": "Python 3 (ipykernel)",
   "language": "python",
   "name": "python3"
  },
  "language_info": {
   "codemirror_mode": {
    "name": "ipython",
    "version": 3
   },
   "file_extension": ".py",
   "mimetype": "text/x-python",
   "name": "python",
   "nbconvert_exporter": "python",
   "pygments_lexer": "ipython3",
   "version": "3.11.3"
  }
 },
 "nbformat": 4,
 "nbformat_minor": 5
}
